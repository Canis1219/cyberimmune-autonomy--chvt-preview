{
 "cells": [
  {
   "cell_type": "markdown",
   "metadata": {},
   "source": [
    "# Безопасное обновление системы\n",
    "## Организация обновления через канал связи с удалённым сервером\n",
    "\n",
    "Этот ноутбук реализует систему безопасного обновления с использованием Монитора Безопасности и разделённой системы управления."
   ]
  },
  {
   "cell_type": "code",
   "execution_count": 1,
   "metadata": {},
   "outputs": [],
   "source": [
    "# Импорт необходимых библиотек\n",
    "from multiprocessing import Queue\n",
    "import os\n",
    "import hashlib\n",
    "import importlib.util\n",
    "\n",
    "# Модули для эмуляции событий и очередей (упрощённая версия)\n",
    "class Event:\n",
    "    def __init__(self, source, destination, operation, parameters):\n",
    "        self.source = source\n",
    "        self.destination = destination\n",
    "        self.operation = operation\n",
    "        self.parameters = parameters\n",
    "\n",
    "class QueuesDirectory:\n",
    "    def __init__(self):\n",
    "        self._queues = {\"security\": Queue(), \"control\": Queue(), \"updater\": Queue()}\n",
    "    \n",
    "    def get_queue(self, name):\n",
    "        return self._queues.get(name, Queue())"
   ]
  },
  {
   "cell_type": "code",
   "execution_count": 2,
   "metadata": {},
   "outputs": [
    {
     "name": "stdout",
     "output_type": "stream",
     "text": [
      "[INFO][SECURITY] Монитор Безопасности создан\n"
     ]
    }
   ],
   "source": [
    "# Определение SecurityMonitor\n",
    "class SecurityMonitor:\n",
    "    def __init__(self, queues_dir, source_dir=\"./source\", dest_dir=\"./destination\", log_level=1):\n",
    "        self._queues_dir = queues_dir\n",
    "        self._log_level = log_level\n",
    "        self._source_dir = source_dir\n",
    "        self._dest_dir = dest_dir\n",
    "        self._allowed_interactions = {\n",
    "            \"communication\": [\"control\"],\n",
    "            \"control\": [\"navigation\", \"servos\", \"cargo\", \"safety\", \"security\"],\n",
    "            \"navigation\": [\"control\", \"safety\"],\n",
    "            \"sitl\": [\"navigation\"],\n",
    "            \"updater\": [\"security\"],\n",
    "        }\n",
    "        self._log_message(1, \"Монитор Безопасности создан\")\n",
    "\n",
    "    def _log_message(self, level, message):\n",
    "        if level <= self._log_level:\n",
    "            print(f\"[{['ERROR', 'INFO', 'DEBUG'][level]}][SECURITY] {message}\")\n",
    "\n",
    "    def check_interaction(self, event: Event) -> bool:\n",
    "        source = event.source.split('.')[0]\n",
    "        destination = event.destination\n",
    "\n",
    "        if source in [\"planner\", \"sitl.mqtt\"] or destination in [\"planner\", \"sitl.mqtt\"]:\n",
    "            return True\n",
    "\n",
    "        if source not in self._allowed_interactions or destination not in self._allowed_interactions.get(source, []):\n",
    "            self._log_message(0, f\"Недопустимое взаимодействие: {source} -> {destination}\")\n",
    "            return False\n",
    "        return True\n",
    "\n",
    "    def process_update(self, event: Event):\n",
    "        if event.operation == \"fetch_update\":\n",
    "            self._fetch_and_verify_update()\n",
    "        elif event.operation == \"use_new_version\":\n",
    "            self._load_new_version()\n",
    "        elif event.operation == \"sign_and_store\":\n",
    "            self._sign_and_store(event.parameters)\n",
    "\n",
    "    def _fetch_and_verify_update(self):\n",
    "        source_file = os.path.join(self._source_dir, \"control_logic.py\")\n",
    "        if not os.path.exists(source_file):\n",
    "            self._log_message(0, \"Файл обновления не найден\")\n",
    "            return\n",
    "\n",
    "        with open(source_file, 'rb') as f:\n",
    "            content = f.read()\n",
    "            file_hash = hashlib.sha256(content).hexdigest()\n",
    "\n",
    "        sig_file = source_file + \".sig\"\n",
    "        if os.path.exists(sig_file):\n",
    "            with open(sig_file, 'r') as f:\n",
    "                expected_hash = f.read().strip()\n",
    "                if file_hash != expected_hash:\n",
    "                    self._log_message(0, \"Подпись не совпадает, обновление отклонено\")\n",
    "                    return\n",
    "                self._log_message(1, \"Подпись подтверждена, копируем файл\")\n",
    "                dest_file = os.path.join(self._dest_dir, \"control_logic.py\")\n",
    "                with open(dest_file, 'wb') as f_dest:\n",
    "                    f_dest.write(content)\n",
    "        else:\n",
    "            self._log_message(0, \"Файл подписи не найден\")\n",
    "\n",
    "    def _load_new_version(self):\n",
    "        module_path = os.path.join(self._dest_dir, \"control_logic.py\")\n",
    "        if not os.path.exists(module_path):\n",
    "            self._log_message(0, \"Новая версия не найдена\")\n",
    "            return\n",
    "\n",
    "        spec = importlib.util.spec_from_file_location(\"control_logic\", module_path)\n",
    "        module = importlib.util.module_from_spec(spec)\n",
    "        spec.loader.exec_module(module)\n",
    "        self._log_message(1, \"Новая версия загружена и активирована\")\n",
    "\n",
    "    def _sign_and_store(self, content):\n",
    "        file_hash = hashlib.sha256(content.encode()).hexdigest()\n",
    "        sig_file = os.path.join(self._dest_dir, \"control_logic.sig\")\n",
    "        with open(sig_file, 'w') as f:\n",
    "            f.write(file_hash)\n",
    "        self._log_message(1, \"Цифровая подпись создана и сохранена\")\n",
    "\n",
    "# Инициализация монитора\n",
    "queues_dir = QueuesDirectory()\n",
    "security_monitor = SecurityMonitor(queues_dir)"
   ]
  },
  {
   "cell_type": "code",
   "execution_count": 3,
   "metadata": {},
   "outputs": [
    {
     "name": "stdout",
     "output_type": "stream",
     "text": [
      "[INFO][CONTROL] Модуль управления создан\n"
     ]
    }
   ],
   "source": [
    "# Определение ControlSystemExecutor\n",
    "class ControlSystemExecutor:\n",
    "    def __init__(self, queues_dir, log_level=1):\n",
    "        self._queues_dir = queues_dir\n",
    "        self._log_level = log_level\n",
    "        self._load_control_logic()\n",
    "        self._log_message(1, \"Модуль управления создан\")\n",
    "\n",
    "    def _log_message(self, level, message):\n",
    "        if level <= self._log_level:\n",
    "            print(f\"[{['ERROR', 'INFO', 'DEBUG'][level]}][CONTROL] {message}\")\n",
    "\n",
    "    def _load_control_logic(self):\n",
    "        module_path = os.path.join(\"./destination\", \"control_logic.py\")\n",
    "        if not os.path.exists(module_path):\n",
    "            self._log_message(0, \"Файл control_logic.py не найден, используется дефолтная логика\")\n",
    "            self._control_logic = lambda speed, direction: self._send_to_consumers(speed, direction)\n",
    "        else:\n",
    "            spec = importlib.util.spec_from_file_location(\"control_logic\", module_path)\n",
    "            module = importlib.util.module_from_spec(spec)\n",
    "            spec.loader.exec_module(module)\n",
    "            self._control_logic = module.control_logic\n",
    "\n",
    "    def _send_to_consumers(self, speed, direction):\n",
    "        security_q = self._queues_dir.get_queue(\"security\")\n",
    "        event_speed = Event(source=\"control\", destination=\"security\", operation=\"set_speed\", parameters=speed)\n",
    "        event_direction = Event(source=\"control\", destination=\"security\", operation=\"set_direction\", parameters=direction)\n",
    "        security_q.put(event_speed)\n",
    "        security_q.put(event_direction)\n",
    "\n",
    "    def update_and_execute(self, speed, direction):\n",
    "        self._load_control_logic()\n",
    "        self._control_logic(speed, direction)\n",
    "\n",
    "# Инициализация системы управления\n",
    "control_system = ControlSystemExecutor(queues_dir)"
   ]
  },
  {
   "cell_type": "code",
   "execution_count": 4,
   "metadata": {},
   "outputs": [
    {
     "name": "stdout",
     "output_type": "stream",
     "text": [
      "[INFO][SECURITY] Подпись подтверждена, копируем файл\n",
      "[INFO][CONTROL] Управление: скорость=50, направление=90\n"
     ]
    }
   ],
   "source": [
    "# Пример выполнения обновления и управления\n",
    "# Предполагается, что в ./source/control_logic.py есть файл с функцией control_logic,\n",
    "# и рядом лежит control_logic.sig с правильным хэшем\n",
    "\n",
    "# Имитация команды обновления\n",
    "update_event = Event(source=\"updater\", destination=\"security\", operation=\"fetch_update\", parameters=None)\n",
    "security_monitor.process_update(update_event)\n",
    "\n",
    "# Имитация использования новой версии\n",
    "use_event = Event(source=\"updater\", destination=\"security\", operation=\"use_new_version\", parameters=None)\n",
    "security_monitor.process_update(use_event)\n",
    "\n",
    "# Выполнение команды управления\n",
    "control_system.update_and_execute(50, 90)"
   ]
  },
  {
   "cell_type": "code",
   "execution_count": 5,
   "metadata": {},
   "outputs": [],
   "source": [
    "# Остановка системы (очистка)\n",
    "del security_monitor\n",
    "del control_system\n",
    "del queues_dir"
   ]
  }
 ],
 "metadata": {
  "kernelspec": {
   "display_name": "Python 3",
   "language": "python",
   "name": "python3"
  },
  "language_info": {
   "codemirror_mode": {
    "name": "ipython",
    "version": 3
   },
   "file_extension": ".py",
   "mimetype": "text/x-python",
   "name": "python",
   "nbconvert_exporter": "python",
   "pygments_lexer": "ipython3",
   "version": "3.12.1"
  }
 },
 "nbformat": 4,
 "nbformat_minor": 4
}
